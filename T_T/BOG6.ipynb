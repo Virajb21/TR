{
 "cells": [
  {
   "cell_type": "code",
   "execution_count": 2,
   "id": "7fede0c2",
   "metadata": {},
   "outputs": [],
   "source": [
    "path = 'CBOW.txt'\n",
    "with open(path,'r') as file:\n",
    "    content = file.read()"
   ]
  },
  {
   "cell_type": "code",
   "execution_count": 3,
   "id": "e166da9e",
   "metadata": {},
   "outputs": [
    {
     "data": {
      "text/plain": [
       "'The speed of transmission is an important point of difference between the two viruses. Influenza has a shorter median incubation period (the time from infection to appearance of symptoms) and a shorter serial interval (the time between successive cases) than COVID-19 virus. The serial interval for COVID-19 virus is estimated to be 5-6 days, while for influenza virus, the serial interval is 3 days. This means that influenza can spread faster than COVID-19. \\n\\nFurther, transmission in the first 3-5 days of illness, or potentially pre-symptomatic transmission â€“transmission of the virus before the appearance of symptoms â€“ is a major driver of transmission for influenza. In contrast, while we are learning that there are people who can shed COVID-19 virus 24-48 hours prior to symptom onset, at present, this does not appear to be a major driver of transmission. \\n\\nThe reproductive number â€“ the number of secondary infections generated from one infected individual â€“ is understood to be between 2 and 2.5 for COVID-19 virus, higher than for influenza. However, estimates for both COVID-19 and influenza viruses are very context and time-specific, making direct comparisons more difficult.  '"
      ]
     },
     "execution_count": 3,
     "metadata": {},
     "output_type": "execute_result"
    }
   ],
   "source": [
    "content"
   ]
  },
  {
   "cell_type": "code",
   "execution_count": 5,
   "id": "1f41385a",
   "metadata": {},
   "outputs": [],
   "source": [
    "import numpy as np\n",
    "import pandas as pd\n",
    "from keras import models , layers\n",
    "from keras.preprocessing.text import Tokenizer\n",
    "from keras.preprocessing.sequence import pad_sequences"
   ]
  },
  {
   "cell_type": "code",
   "execution_count": 27,
   "id": "69c22388",
   "metadata": {},
   "outputs": [
    {
     "data": {
      "text/plain": [
       "103"
      ]
     },
     "execution_count": 27,
     "metadata": {},
     "output_type": "execute_result"
    }
   ],
   "source": [
    "window_size=2\n",
    "sentences=content.split('.')\n",
    "vec=Tokenizer()\n",
    "\n",
    "\n",
    "vec.fit_on_texts(sentences)\n",
    "total_words=len(vec.word_index)+1\n",
    "sentences=vec.texts_to_sequences(sentences)\n",
    "\n",
    "total_words"
   ]
  },
  {
   "cell_type": "code",
   "execution_count": 28,
   "id": "173ee59b",
   "metadata": {},
   "outputs": [],
   "source": [
    "data,label=[],[]\n",
    "for sentence in sentences:\n",
    "  for idx,target_word in enumerate(sentence):\n",
    "    context=[\n",
    "        sentence[j] for j in range(idx-window_size,idx+window_size+1)\n",
    "        if j!=idx and 0<= j <len(sentence)\n",
    "    ]\n",
    "    data.append(context)\n",
    "    label.append(target_word)\n"
   ]
  },
  {
   "cell_type": "code",
   "execution_count": 29,
   "id": "23abc4c4",
   "metadata": {},
   "outputs": [],
   "source": [
    "label=np.array(label)\n"
   ]
  },
  {
   "cell_type": "code",
   "execution_count": 30,
   "id": "050e1ebe",
   "metadata": {},
   "outputs": [
    {
     "data": {
      "text/plain": [
       "array([  1,  38,   2,   8,   9,  39,  40,  41,   2,  42,  13,   1,  43,\n",
       "        23,   3,  44,  11,  24,  45,  46,  47,   1,  14,  25,  48,  10,\n",
       "        26,   2,  27,  12,  11,  24,  15,  16,   1,  14,  13,  49,  50,\n",
       "        17,   4,   5,   6,   1,  15,  16,   7,   4,   5,   6,   9,  51,\n",
       "        10,  18,  19,  52,  20,  28,   7,   3,   6,   1,  15,  16,   9,\n",
       "        29,  20,  30,  53,  31,   3,  32,  54,  55,  17,   4,   5,  56,\n",
       "         8,  33,   1,  57,  29,  19,  20,   2,  58,  59,  60,  61,  62,\n",
       "         8,  63,   2,   1,   6,  64,   1,  26,   2,  27,  21,   9,  11,\n",
       "        34,  35,   2,   8,   7,   3,  33,  65,  28,  66,  22,  67,  31,\n",
       "        68,  22,  69,  70,  32,  71,   4,   5,   6,  72,  73,  74,  75,\n",
       "        10,  76,  77,  78,  79,  30,  80,  81,  82,  10,  18,  11,  34,\n",
       "        35,   2,   8,   1,  83,  36,  21,   1,  36,   2,  84,  85,  86,\n",
       "        25,  87,  88,  89,  21,   9,  90,  10,  18,  13,  37,  12,  37,\n",
       "        19,   7,   4,   5,   6,  91,  17,   7,   3,  92,  93,   7,  94,\n",
       "         4,   5,  12,   3,  23,  22,  95,  96,  12,  14,  97,  98,  99,\n",
       "       100, 101, 102])"
      ]
     },
     "execution_count": 30,
     "metadata": {},
     "output_type": "execute_result"
    }
   ],
   "source": [
    "label"
   ]
  },
  {
   "cell_type": "code",
   "execution_count": 31,
   "id": "954c4eb1",
   "metadata": {},
   "outputs": [
    {
     "data": {
      "text/plain": [
       "103"
      ]
     },
     "execution_count": 31,
     "metadata": {},
     "output_type": "execute_result"
    }
   ],
   "source": [
    "total_words"
   ]
  },
  {
   "cell_type": "code",
   "execution_count": 32,
   "id": "e6076c7d",
   "metadata": {},
   "outputs": [],
   "source": [
    "data=pad_sequences(data)"
   ]
  },
  {
   "cell_type": "code",
   "execution_count": 33,
   "id": "f55d57e4",
   "metadata": {},
   "outputs": [],
   "source": [
    "from keras.preprocessing.sequence import pad_sequences"
   ]
  },
  {
   "cell_type": "code",
   "execution_count": 34,
   "id": "c655d0af",
   "metadata": {},
   "outputs": [],
   "source": [
    "data = pad_sequences(data)"
   ]
  },
  {
   "cell_type": "code",
   "execution_count": 38,
   "id": "bf53e845",
   "metadata": {},
   "outputs": [],
   "source": [
    "model = models.Sequential([\n",
    "    layers.Embedding(input_dim = total_words, output_dim = 50 ,  input_length = window_size*2),\n",
    "    layers.GlobalAveragePooling1D(),\n",
    "    layers.Dense(total_words,activation='softmax')\n",
    "])"
   ]
  },
  {
   "cell_type": "code",
   "execution_count": 39,
   "id": "cef728e0",
   "metadata": {},
   "outputs": [],
   "source": [
    "model.compile(loss='sparse_categorical_crossentropy',optimizer='adam',metrics = 'accuracy')"
   ]
  },
  {
   "cell_type": "code",
   "execution_count": 40,
   "id": "3b428dbf",
   "metadata": {
    "scrolled": true
   },
   "outputs": [
    {
     "name": "stdout",
     "output_type": "stream",
     "text": [
      "Epoch 1/10\n",
      "7/7 [==============================] - 1s 7ms/step - loss: 4.6321 - accuracy: 0.0101\n",
      "Epoch 2/10\n",
      "7/7 [==============================] - 0s 6ms/step - loss: 4.6213 - accuracy: 0.0960\n",
      "Epoch 3/10\n",
      "7/7 [==============================] - 0s 6ms/step - loss: 4.6123 - accuracy: 0.1465\n",
      "Epoch 4/10\n",
      "7/7 [==============================] - 0s 5ms/step - loss: 4.6034 - accuracy: 0.2020\n",
      "Epoch 5/10\n",
      "7/7 [==============================] - 0s 5ms/step - loss: 4.5943 - accuracy: 0.2374\n",
      "Epoch 6/10\n",
      "7/7 [==============================] - 0s 5ms/step - loss: 4.5849 - accuracy: 0.2475\n",
      "Epoch 7/10\n",
      "7/7 [==============================] - 0s 5ms/step - loss: 4.5753 - accuracy: 0.2677\n",
      "Epoch 8/10\n",
      "7/7 [==============================] - 0s 5ms/step - loss: 4.5651 - accuracy: 0.2677\n",
      "Epoch 9/10\n",
      "7/7 [==============================] - 0s 5ms/step - loss: 4.5545 - accuracy: 0.2475\n",
      "Epoch 10/10\n",
      "7/7 [==============================] - 0s 4ms/step - loss: 4.5431 - accuracy: 0.2778\n"
     ]
    },
    {
     "data": {
      "text/plain": [
       "<keras.src.callbacks.History at 0x1834187ce50>"
      ]
     },
     "execution_count": 40,
     "metadata": {},
     "output_type": "execute_result"
    }
   ],
   "source": [
    "model.fit(data,label,epochs= 10, verbose=1)"
   ]
  },
  {
   "cell_type": "code",
   "execution_count": 44,
   "id": "be0831dc",
   "metadata": {},
   "outputs": [],
   "source": [
    "word_embeddings = model.get_layer(index=0).get_weights()[0]"
   ]
  },
  {
   "cell_type": "code",
   "execution_count": 45,
   "id": "22d32978",
   "metadata": {},
   "outputs": [],
   "source": [
    "from sklearn.metrics.pairwise import cosine_similarity\n"
   ]
  },
  {
   "cell_type": "code",
   "execution_count": 52,
   "id": "93f6601f",
   "metadata": {},
   "outputs": [],
   "source": [
    "target_word = 'influenza'"
   ]
  },
  {
   "cell_type": "code",
   "execution_count": 54,
   "id": "8345e3ac",
   "metadata": {},
   "outputs": [],
   "source": [
    "target_index = vec.word_index[target_word]\n",
    "target_embedding = word_embeddings[target_index]"
   ]
  },
  {
   "cell_type": "code",
   "execution_count": 63,
   "id": "705827e4",
   "metadata": {},
   "outputs": [
    {
     "name": "stdout",
     "output_type": "stream",
     "text": [
      "['influenza', 'covid', '19', 'can', 'context']\n"
     ]
    }
   ],
   "source": [
    "similarit = cosine_similarity(target_embedding.reshape(1,-1) , word_embeddings)[0]\n",
    "similar = similarit.argsort()[-5:][::-1]\n",
    "ans = [words for words, i in vec.word_index.items() if i in similar]\n",
    "print(ans)"
   ]
  },
  {
   "cell_type": "code",
   "execution_count": null,
   "id": "22ccd9d9",
   "metadata": {},
   "outputs": [],
   "source": []
  },
  {
   "cell_type": "code",
   "execution_count": null,
   "id": "969cc370",
   "metadata": {},
   "outputs": [],
   "source": []
  }
 ],
 "metadata": {
  "kernelspec": {
   "display_name": "Python 3 (ipykernel)",
   "language": "python",
   "name": "python3"
  },
  "language_info": {
   "codemirror_mode": {
    "name": "ipython",
    "version": 3
   },
   "file_extension": ".py",
   "mimetype": "text/x-python",
   "name": "python",
   "nbconvert_exporter": "python",
   "pygments_lexer": "ipython3",
   "version": "3.10.9"
  }
 },
 "nbformat": 4,
 "nbformat_minor": 5
}
